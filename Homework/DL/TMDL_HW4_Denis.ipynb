{
 "cells": [
  {
   "cell_type": "markdown",
   "metadata": {},
   "source": [
    "### Theoretical methods of deep learning: Homework assignment 4\n",
    "Submit solution by uploading to canvas, **by Friday, November 30th, 12:00**\n",
    "\n",
    "**The task.** Perform an experimental study of convergence of gradient descent for a basic model, and give some theoretical interpretation to the results.\n",
    "* Consider random training sets consisting of $N=20$ points $(\\mathbf x_n, y_n),$ where $\\mathbf x_n\\in \\mathbb R^d, y_n\\in \\mathbb R.$ Generate each $\\mathbf x_n$ and $y_n$ independently, using standard normal distribution. Consider fitting this training data by a network having at least two hidden layers and using the standard quadratic loss.\n",
    "* For $d=15$, choose a network architecture (sizes of the layers, the activation functions,..) and training parameters (weight initialization, learning rate, number of GD steps,..) so that the network reliably learns the training data (say with the final loss below $10^{-8}$ for 80% of random training sets). Provide a motivation for your choice and compare it to other choices. \n",
    "* What happens with training if the input dimension $d$ is significantly decreased (say to $d=5$ or $d=2$)? Does performance improve or deteriorate, and why?"
   ]
  },
  {
   "cell_type": "code",
   "execution_count": 11,
   "metadata": {},
   "outputs": [
    {
     "name": "stdout",
     "output_type": "stream",
     "text": [
      "8172 yeah!\n",
      "10000 1.0969536390348367e-09\n",
      "20000 8.006395546544809e-11\n"
     ]
    },
    {
     "data": {
      "text/plain": [
       "tensor(8.0064e-11, device='cuda:0', grad_fn=<MseLossBackward>)"
      ]
     },
     "execution_count": 11,
     "metadata": {},
     "output_type": "execute_result"
    }
   ],
   "source": [
    "import torch\n",
    "import numpy as np\n",
    "\n",
    "device = torch.device('cuda')\n",
    "\n",
    "# N is batch size; D_in is input dimension;\n",
    "# H is hidden dimension; D_out is output dimension.\n",
    "N, D_in, H, D_out = 2, 15, 20, 1\n",
    "\n",
    "x = torch.randn(N, D_in, device=device)\n",
    "y = torch.randn(N, D_out, device=device)\n",
    "\n",
    "model = torch.nn.Sequential(\n",
    "          torch.nn.Linear(D_in, H),\n",
    "          torch.nn.ReLU(),\n",
    "          torch.nn.Linear(H, D_out),\n",
    "        ).to(device)\n",
    "\n",
    "loss_fn = torch.nn.MSELoss(reduction='sum')\n",
    "learning_rate = 1e-4\n",
    "best_loss = 999\n",
    "yeah = False\n",
    "losses = []\n",
    "for t in range(20000):\n",
    "    y_pred = model(x)\n",
    "\n",
    "    loss = loss_fn(y_pred, y)\n",
    "    if (t+1)%10000 == 0: \n",
    "        print(t+1, loss.item())\n",
    "    \n",
    "    if best_loss > loss:\n",
    "        best_loss = loss\n",
    "        torch.save(model, 'checkpoint.pth')\n",
    " \n",
    "        if loss < 1e-8 and yeah == False:\n",
    "            print (t+1, 'yeah!')\n",
    "            yeah = True\n",
    "    losses.append(np.float(loss))\n",
    "    model.zero_grad()\n",
    "    loss.backward()\n",
    "    \n",
    "    with torch.no_grad():\n",
    "        for param in model.parameters():\n",
    "            param.data -= learning_rate * param.grad\n",
    "best_loss"
   ]
  },
  {
   "cell_type": "code",
   "execution_count": 19,
   "metadata": {},
   "outputs": [
    {
     "name": "stdout",
     "output_type": "stream",
     "text": [
      "('0.weight', Parameter containing:\n",
      "tensor([[-0.1343, -0.0941, -0.1888, -0.0057, -0.1569,  0.2298,  0.1400, -0.1596,\n",
      "          0.2001,  0.2407, -0.2562, -0.1972, -0.0859,  0.1719, -0.2038],\n",
      "        [ 0.1916, -0.0721,  0.2328,  0.0365,  0.0556, -0.1187, -0.2511,  0.0860,\n",
      "         -0.2202, -0.2031,  0.0941,  0.1990,  0.0980, -0.2640,  0.0781],\n",
      "        [ 0.2047, -0.1008,  0.0717, -0.1971,  0.0374,  0.2363,  0.1327,  0.1662,\n",
      "          0.0894,  0.1361,  0.0982, -0.1304,  0.2489, -0.0380, -0.0799],\n",
      "        [-0.1456,  0.0885,  0.0340,  0.0188, -0.1517,  0.1518,  0.2300,  0.1990,\n",
      "         -0.2420, -0.1546,  0.2124, -0.2139,  0.2429, -0.0556,  0.0115],\n",
      "        [-0.1334,  0.2327, -0.2299, -0.1789,  0.0156,  0.0745,  0.1018,  0.0544,\n",
      "          0.1151, -0.1036,  0.0960, -0.0988,  0.2374,  0.1305, -0.2428],\n",
      "        [ 0.0494,  0.2092,  0.2298, -0.1681, -0.1857,  0.1741,  0.2256,  0.2436,\n",
      "         -0.2265,  0.1110, -0.0342, -0.1509,  0.2262,  0.1394,  0.2178],\n",
      "        [ 0.0017,  0.1444,  0.0470,  0.2576, -0.2503, -0.0708, -0.1490, -0.1884,\n",
      "         -0.2520,  0.2293, -0.0140, -0.1705, -0.1205,  0.0220,  0.0808],\n",
      "        [ 0.1469, -0.1100, -0.2337, -0.0808,  0.1129,  0.1762,  0.0715,  0.2292,\n",
      "          0.2129, -0.0299, -0.1419,  0.1839,  0.0046, -0.2216,  0.1603],\n",
      "        [-0.2404,  0.0948, -0.1821, -0.0046,  0.1672,  0.0111, -0.0292,  0.1928,\n",
      "          0.1915,  0.1411, -0.1345, -0.0634, -0.0848, -0.0456, -0.2404],\n",
      "        [ 0.2226, -0.1984, -0.2527, -0.1092, -0.1372,  0.0601, -0.0596, -0.0405,\n",
      "          0.1644, -0.0871,  0.1311, -0.1709,  0.0446, -0.2341,  0.1307],\n",
      "        [ 0.0358, -0.0604, -0.1187,  0.2077,  0.1671, -0.2204, -0.1046,  0.1877,\n",
      "         -0.2085,  0.1838,  0.1353,  0.1966,  0.0041,  0.1888,  0.0027],\n",
      "        [ 0.0740, -0.2040,  0.0225,  0.1754, -0.0336, -0.0811,  0.2706, -0.1541,\n",
      "          0.0241, -0.1056,  0.1772,  0.0025,  0.1976, -0.1668,  0.0828],\n",
      "        [ 0.0050,  0.2301,  0.1251, -0.2515,  0.0183, -0.1959, -0.2463,  0.1126,\n",
      "         -0.2051,  0.1501, -0.1512, -0.0532,  0.0247,  0.0214, -0.1319],\n",
      "        [-0.2157, -0.2133, -0.0680, -0.0732, -0.1923, -0.2465,  0.2312, -0.2238,\n",
      "         -0.0498,  0.1732, -0.0863,  0.0920, -0.1846, -0.1989, -0.0593],\n",
      "        [ 0.0721, -0.0905, -0.0483,  0.0726,  0.2283, -0.0744, -0.0338,  0.2277,\n",
      "         -0.0647, -0.1307, -0.1755,  0.0759, -0.0139, -0.1572,  0.0817],\n",
      "        [ 0.1130,  0.1825, -0.1268, -0.1717,  0.0999, -0.0530,  0.1924,  0.0657,\n",
      "          0.1282, -0.1249,  0.1266,  0.0613, -0.1953,  0.1629,  0.0179],\n",
      "        [-0.1524,  0.0448, -0.1365,  0.0917, -0.2549, -0.1149, -0.0724, -0.1551,\n",
      "          0.0834,  0.1680,  0.1368, -0.0184,  0.1687,  0.2311, -0.1103],\n",
      "        [ 0.2422,  0.2107,  0.1602, -0.1934,  0.1774, -0.1134, -0.1326,  0.0947,\n",
      "          0.1951, -0.1260, -0.2224, -0.1398, -0.2014, -0.1052,  0.0025],\n",
      "        [-0.0723,  0.1528, -0.1100, -0.0526,  0.0157,  0.1413, -0.2021,  0.2494,\n",
      "          0.2179,  0.1911, -0.0763, -0.2130, -0.1641,  0.1461,  0.2511],\n",
      "        [-0.0552, -0.2454,  0.2201,  0.2013,  0.0057, -0.0151,  0.1612,  0.0816,\n",
      "          0.0753,  0.2715,  0.0419, -0.0536,  0.0029, -0.1431,  0.1206]],\n",
      "       device='cuda:0', requires_grad=True))\n",
      "('0.bias', Parameter containing:\n",
      "tensor([ 0.1948,  0.2139,  0.2489, -0.1505, -0.1092, -0.1840, -0.1161,  0.0530,\n",
      "         0.2208,  0.0269, -0.1630,  0.2117,  0.2251, -0.0926,  0.1399, -0.1834,\n",
      "         0.1708,  0.0349, -0.1079,  0.0021],\n",
      "       device='cuda:0', requires_grad=True))\n",
      "('2.weight', Parameter containing:\n",
      "tensor([[ 0.1967,  0.1937,  0.0033,  0.1333, -0.0530,  0.0027,  0.0042, -0.0719,\n",
      "         -0.0515,  0.0883, -0.1018, -0.0803,  0.2950, -0.0213,  0.1221,  0.0033,\n",
      "         -0.0743,  0.1409, -0.1710,  0.2698]],\n",
      "       device='cuda:0', requires_grad=True))\n",
      "('2.bias', Parameter containing:\n",
      "tensor([0.4395], device='cuda:0', requires_grad=True))\n"
     ]
    }
   ],
   "source": [
    "for param in model.named_parameters():\n",
    "    print (param)"
   ]
  },
  {
   "cell_type": "code",
   "execution_count": 18,
   "metadata": {},
   "outputs": [
    {
     "data": {
      "text/plain": [
       "<generator object Module.parameters at 0x7f4c6420cf68>"
      ]
     },
     "execution_count": 18,
     "metadata": {},
     "output_type": "execute_result"
    }
   ],
   "source": [
    "model.parameters()"
   ]
  },
  {
   "cell_type": "code",
   "execution_count": null,
   "metadata": {},
   "outputs": [],
   "source": []
  }
 ],
 "metadata": {
  "kernelspec": {
   "display_name": "Python 3",
   "language": "python",
   "name": "python3"
  },
  "language_info": {
   "codemirror_mode": {
    "name": "ipython",
    "version": 3
   },
   "file_extension": ".py",
   "mimetype": "text/x-python",
   "name": "python",
   "nbconvert_exporter": "python",
   "pygments_lexer": "ipython3",
   "version": "3.6.4"
  }
 },
 "nbformat": 4,
 "nbformat_minor": 2
}
