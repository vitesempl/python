{
 "cells": [
  {
   "cell_type": "code",
   "execution_count": 1,
   "metadata": {
    "colab": {},
    "colab_type": "code",
    "id": "JPVA2kM9JVD-"
   },
   "outputs": [],
   "source": [
    "from math import factorial, pi\n",
    "from matplotlib import pyplot as plt\n",
    "import numpy as np\n",
    "\n",
    "def dot(x, y):\n",
    "    if len(x) != len(y):\n",
    "        raise Exception('Sizes missmatch')\n",
    "    return sum([i * j for i, j in zip(x, y)])\n",
    "\n",
    "def relu(x):\n",
    "    return max(0, x)\n",
    "\n",
    "\n",
    "class Neuron:\n",
    "    def __init__(self, w, b):\n",
    "        self.w = w\n",
    "        self.b = b\n",
    "    def __call__(self, x):\n",
    "        if len(x) != len(self.w):\n",
    "            raise Exception('Sizes missmatch')\n",
    "        return relu(dot(self.w, x) + self.b)\n",
    "    \n",
    "    \n",
    "# block of 3 neurons that implement function g\n",
    "class BlockG:\n",
    "    w = [2, -4, 2]\n",
    "    b = [0, -0.5, -1]\n",
    "    def __init__(self):\n",
    "        pass\n",
    "\n",
    "    def __call__(self, x):\n",
    "        #print(args)\n",
    "        if len(x) == 1:\n",
    "            n = x[0]\n",
    "        elif len(x) == 3:\n",
    "            n = dot(self.w, x)\n",
    "        return [relu(n + bs) for bs in self.b]\n",
    "\n",
    "\n",
    "# block of neurons for x ** 2 function approximation\n",
    "# N = 3 * m + 3 * (m - 1) * 3 + 4 = 12m - 5 connections inside a block \n",
    "class BlockX2:\n",
    "    def __init__(self, m):\n",
    "        self.m = m\n",
    "        self.g_weights = [1] + [- 1 / 2 ** (2 * i) for i in range(1, m + 1)]\n",
    "        #print(self.g_weights)\n",
    "\n",
    "    def __call__(self, x):\n",
    "        pre_res_vec = [x]\n",
    "        for m in range(len(self.g_weights) - 1):\n",
    "            if not m: \n",
    "                prev_out = [x]\n",
    "            prev_out = BlockG()(prev_out)\n",
    "            pre_res_vec.append(dot(prev_out, [2, -4, 2]))\n",
    "        #print(pre_res_vec)\n",
    "        return dot(pre_res_vec, self.g_weights)\n",
    "    \n",
    "\n",
    "# block of neurons for x * y function approximation\n",
    "# M = 3 + 4 + N + 3 + N = 2N + 10 = 24m connections\n",
    "class BlockXY:\n",
    "    def __init__(self, x2_m):\n",
    "        self.x2_m = x2_m\n",
    "        \n",
    "    def __call__(self, x, y):\n",
    "        #print(BlockX2(self.x2_m)(x + y))\n",
    "        #print(BlockX2(self.x2_m)(BlockABS()(x - y)))\n",
    "        return BlockX2(self.x2_m)(0.5 * (x + y)) - BlockX2(self.x2_m)(BlockABS()(0.5 * (x - y)))\n",
    "\n",
    "    \n",
    "# block of neurons for Taylor series approximation of sin(pi * x) for x \\in [0, 1]\n",
    "# T = 2 + n_power // 2 * 3 + N + M * (n_power // 2) = (24m + 3) * (n_power // 2) + 12m - 3 connections\n",
    "class TaylorSine:\n",
    "    def __init__(self, n_power, x2_m):\n",
    "        self.n_power = n_power\n",
    "        self.taylor_weights = [(-1) ** ((i - 1) % 4 / 2) * pi ** i / factorial(i) for i in range(1, n_power + 1, 2)]\n",
    "        #print(self.taylor_weights)\n",
    "        \n",
    "        self.x2_m = x2_m\n",
    "        \n",
    "    def __call__(self, x):\n",
    "        x_squared = BlockX2(self.x2_m)(x)\n",
    "        #print(x_squared)\n",
    "        pre_res_vec = [x]\n",
    "        for i in range(len(self.taylor_weights) - 1):\n",
    "            if i:\n",
    "                prev_out = pre_res_vec[i]\n",
    "            else:\n",
    "                prev_out = x\n",
    "            #print('prev_out: {}\\ncurrent mult: {}'.format(prev_out, BlockXY(self.x2_m)(x_squared, prev_out)))\n",
    "            pre_res_vec.append(BlockXY(self.x2_m)(x_squared, prev_out))\n",
    "        return dot(pre_res_vec, self.taylor_weights)"
   ]
  },
  {
   "cell_type": "code",
   "execution_count": 2,
   "metadata": {
    "colab": {},
    "colab_type": "code",
    "id": "As20A4YNdDmY"
   },
   "outputs": [],
   "source": [
    "# block of neurons to calculate the absolute value\n",
    "# 4 connections inside this block\n",
    "class BlockABS:\n",
    "    def __init__(self):\n",
    "        self.neurons = [Neuron([1], 0), Neuron([-1], 0)]\n",
    "        self.abs_neuron = Neuron([1, 1], 0)\n",
    "    def __call__(self, x):\n",
    "        return relu(self.abs_neuron([relu(neuron([x])) for neuron in self.neurons]))"
   ]
  },
  {
   "cell_type": "code",
   "execution_count": 3,
   "metadata": {
    "colab": {},
    "colab_type": "code",
    "id": "Pzz8Pz5whYsL"
   },
   "outputs": [],
   "source": [
    "class BlockIndicator:\n",
    "    def __init__(self):\n",
    "        self.n1 = Neuron([1], 1)\n",
    "        self.n2 = Neuron([1], 0)\n",
    "        self.n3 = Neuron([1, -1], 0)\n",
    "        self.n4 = Neuron([2], -1)\n",
    "    def __call__(self, x):\n",
    "        return relu(self.n4([relu(self.n3([relu(self.n1([x])), relu(self.n2([x]))]))]))"
   ]
  },
  {
   "cell_type": "code",
   "execution_count": 4,
   "metadata": {
    "colab": {},
    "colab_type": "code",
    "id": "XjRyXnUemELC"
   },
   "outputs": [],
   "source": [
    "# block of neurons that maps [-pi, pi] to [0, 1]\n",
    "# 4 + 1 = 5 connections\n",
    "class BlockNorm:\n",
    "    def __init__(self):\n",
    "        self.n1 = Neuron([1 / pi], 0)\n",
    "    def __call__(self, x):\n",
    "        return relu(self.n1([BlockABS()(x)]\n",
    "                           ))"
   ]
  },
  {
   "cell_type": "markdown",
   "metadata": {
    "colab_type": "text",
    "id": "1haLNWK89GHs"
   },
   "source": [
    "## Total number of connections:\n",
    "5 in BlockNorm + (24m + 3) * (n_power // 2) + 12m - 3 in TaylorSine. (See class descriptions for more details)\n"
   ]
  },
  {
   "cell_type": "code",
   "execution_count": 5,
   "metadata": {
    "colab": {},
    "colab_type": "code",
    "id": "BknqmH_G9btr"
   },
   "outputs": [],
   "source": [
    "n_connections = lambda m, n_power: 5 + (24 * m + 3) * (n_power // 2) + 12 * m - 3"
   ]
  },
  {
   "cell_type": "code",
   "execution_count": 6,
   "metadata": {
    "colab": {
     "base_uri": "https://localhost:8080/",
     "height": 34
    },
    "colab_type": "code",
    "id": "lUjsLCuiAs8K",
    "outputId": "3e20e1fc-c4af-4eaa-aae7-e1b31648cecc"
   },
   "outputs": [
    {
     "data": {
      "text/plain": [
       "6107"
      ]
     },
     "execution_count": 6,
     "metadata": {},
     "output_type": "execute_result"
    }
   ],
   "source": [
    "n_connections(22, 23)"
   ]
  },
  {
   "cell_type": "markdown",
   "metadata": {
    "colab_type": "text",
    "id": "qdnfH4wxA6Lz"
   },
   "source": [
    "## Fianl approximation and error estimation"
   ]
  },
  {
   "cell_type": "code",
   "execution_count": 7,
   "metadata": {
    "colab": {},
    "colab_type": "code",
    "id": "ZIh_1HwI1cr7"
   },
   "outputs": [],
   "source": [
    "net = TaylorSine(23, 20)"
   ]
  },
  {
   "cell_type": "code",
   "execution_count": 8,
   "metadata": {
    "colab": {},
    "colab_type": "code",
    "id": "ArK-vuvo1fki"
   },
   "outputs": [],
   "source": [
    "from math import sin\n",
    "from numpy import linspace\n",
    "from matplotlib import pyplot as plt\n",
    "\n",
    "n = 10000\n",
    "x = linspace(0, pi, n)\n",
    "y = [net(BlockNorm()(point)) for point in x] \n",
    "sin_y = [sin(point) for point in x]"
   ]
  },
  {
   "cell_type": "code",
   "execution_count": 9,
   "metadata": {
    "colab": {
     "base_uri": "https://localhost:8080/",
     "height": 362
    },
    "colab_type": "code",
    "id": "hBF1nk-v5XJX",
    "outputId": "be78a27f-a800-4cbd-ea9e-a41ddd9d429e"
   },
   "outputs": [
    {
     "data": {
      "image/png": "[encoded data removed]",
      "text/plain": [
       "<Figure size 432x288 with 1 Axes>"
      ]
     },
     "metadata": {},
     "output_type": "display_data"
    }
   ],
   "source": [
    "plt.plot(x, y)\n",
    "plt.plot(x, sin_y)\n",
    "plt.title('Combined plot')\n",
    "plt.show()\n"
   ]
  },
  {
   "cell_type": "code",
   "execution_count": 10,
   "metadata": {
    "colab": {
     "base_uri": "https://localhost:8080/",
     "height": 362
    },
    "colab_type": "code",
    "id": "h8x6eUzH2cmE",
    "outputId": "2644baf6-d470-4607-f839-8ca2944d3c33"
   },
   "outputs": [
    {
     "data": {
      "image/png": "[encoded data removed]",
      "text/plain": [
       "<Figure size 432x288 with 1 Axes>"
      ]
     },
     "metadata": {},
     "output_type": "display_data"
    }
   ],
   "source": [
    "plt.plot(x, [abs(i-j) for i, j in zip(y, sin_y)])\n",
    "plt.title('Error')\n",
    "plt.show()"
   ]
  },
  {
   "cell_type": "code",
   "execution_count": 11,
   "metadata": {
    "colab": {
     "base_uri": "https://localhost:8080/",
     "height": 34
    },
    "colab_type": "code",
    "id": "yoJ_gUit3yKa",
    "outputId": "a0c0fd6d-eee7-44ec-fc96-260651cf432e"
   },
   "outputs": [
    {
     "name": "stdout",
     "output_type": "stream",
     "text": [
      "Final uniform error: 2.0362600494649996e-12\n"
     ]
    }
   ],
   "source": [
    "def uniform_error(net, linspace):\n",
    "    mx = 0\n",
    "    ind = 0\n",
    "    for point in linspace:\n",
    "        y = net(BlockNorm()(point))\n",
    "        sin_y = sin(point)\n",
    "        v = abs(y - sin_y)\n",
    "        if  v > mx:\n",
    "            mx = v\n",
    "            ind = point\n",
    "    return mx\n",
    "\n",
    "print('Final uniform error:', uniform_error(net, x))\n"
   ]
  },
  {
   "cell_type": "code",
   "execution_count": null,
   "metadata": {
    "colab": {},
    "colab_type": "code",
    "id": "egOAzRmPDqyJ"
   },
   "outputs": [],
   "source": []
  }
 ],
 "metadata": {
  "colab": {
   "collapsed_sections": [],
   "name": "tmdl_hw1.ipynb",
   "provenance": [],
   "version": "0.3.2"
  },
  "kernelspec": {
   "display_name": "Python 3",
   "language": "python",
   "name": "python3"
  },
  "language_info": {
   "codemirror_mode": {
    "name": "ipython",
    "version": 3
   },
   "file_extension": ".py",
   "mimetype": "text/x-python",
   "name": "python",
   "nbconvert_exporter": "python",
   "pygments_lexer": "ipython3",
   "version": "3.6.4"
  }
 },
 "nbformat": 4,
 "nbformat_minor": 2
}
