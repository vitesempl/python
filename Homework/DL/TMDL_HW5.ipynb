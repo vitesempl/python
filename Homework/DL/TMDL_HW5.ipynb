{
 "cells": [
  {
   "cell_type": "markdown",
   "metadata": {},
   "source": [
    "### Theoretical methods of deep learning: Homework assignment 5\n",
    "Submit solution by uploading to canvas, **by Friday, December 7th, 12:00**\n",
    "\n",
    "**Task 1.** Consider the wide deep neural network with independent random weights and the ReLU activation function. Suppose that the weights $(W_k)_{ij}\\sim\\mathcal N(0,\\frac{\\alpha_w^2}{d_k})$ and the bias terms $h_{k,i}\\sim \\mathcal N(0,\\alpha_h^2)$. Suppose that $\\alpha_w^2<2,$ so that the single vector transfer function $q_{k+1}=\\nu(q_k)$ has a fixed point $q^*$. Consider the corresponding map $c_{k+1}=\\widetilde{\\mathcal C}_{q^*}(c_{k})$ describing the iterative evolution of correlation coefficient between two signals.\n",
    "1. Prove that $\\widetilde{\\mathcal C}_{q^*}(c)=1+\\alpha_w^2\\Big[\\frac{c-1}{2}-\\frac{1}{2\\pi}\\big(c\\arccos c-\\sqrt{1-c^2}\\big)\\Big]$.\n",
    "2. Does $\\widetilde{\\mathcal C}_{q^*}$ have fixed points other than $c^*=1$?\n",
    "3. Verify the results numerically by a Monte-Carlo simulation of the map  $\\widetilde{\\mathcal C}_{q^*}$. \n",
    "4. Which values of the parameters ($\\alpha_w, \\alpha_h$) are preferable for \"deeper propagation of information\"?\n",
    "\n",
    "**Task 2.** Let $B_{p,n}$ be the ball $\\{\\mathbf x\\in\\mathbb R^n: \\|\\mathbf x\\|_p<r\\}$ w.r.t. the $l^p$ norm in $\\mathbb R^n$, and the radius $r$ is chosen so that $\\operatorname{Vol}(B_{p,n})=1$. Using large deviation theory, show that\n",
    "$$\\operatorname{Vol}(B_{1,n}\\cap B_{\\infty,n})\\simeq e^{-an}\\quad (n\\to \\infty)$$\n",
    "\n",
    "with some constant $a$, and find this $a$. Verify your result by directly estimating the volume using Monte-Carlo sampling."
   ]
  },
  {
   "cell_type": "markdown",
   "metadata": {},
   "source": [
    "$$\\widetilde{\\mathcal C}_{q^*}(c) = \\frac{1}{q^*} (\\alpha_W^2 \\int \\sigma(\\sqrt{q^*}s_1) \\sigma(\\sqrt{q^*}(cs_1 + \\sqrt{1 - c^2}s_2)) \\mathcal{D} s_1 \\mathcal{D} s_2 + \\alpha_h^2) = \n",
    "\\frac{1}{q^*} (\\alpha_W^2 \\int \\sqrt{q^*}s_1 \\sqrt{q^*}(cs_1 + \\sqrt{1 - c^2}s_2) \\mathbb{1}_{(0, + \\infty)}(s_1) \\mathbb{1}_{(-\\frac{c}{\\sqrt{1 -c^2}s_1}, +\\infty)}(s_2) \\mathcal{D} s_1 \\mathcal{D} s_2 + \\alpha_h^2) = $$\n",
    "$$\\frac{\\alpha_h^2}{q^*} + \\alpha_W^2 \\int_{0}^{+ \\infty} (\\int_{-\\frac{c}{\\sqrt{1 -c^2}}s_1}^{+ \\infty}c s_1^2 + s_1\\sqrt{1 - c^2} s_2 \\mathcal{D} s_2) \\mathcal{D} s_1 = $$\n",
    "$$1 - \\frac{\\alpha_W^2}{2} + \\alpha_W^2 \\int_{0}^{+ \\infty} (c s_1^2 (1 - F(-\\frac{c}{\\sqrt{1 -c^2}}s_1)) + s_1\\sqrt{1 - c^2} \\frac{1}{\\sqrt{2\\pi}} e^{-\\frac{c^2s_1^2}{2(1 - c^2)}}) \\mathcal{D} s_1 = $$\n",
    "$$1 - \\frac{\\alpha_W^2}{2} + \\alpha_W^2(c\\int_{0}^{+ \\infty}s_1^2\\mathcal{D}s_1 - c\\int_{0}^{+ \\infty}s_1^2 F(-\\frac{c}{\\sqrt{1 -c^2}}s_1)\\mathcal{D}s_1 + \\frac{\\sqrt{1 - c^2}}{\\sqrt{2\\pi}}\\int_{0}^{+ \\infty} s_1 e^{-\\frac{c^2s_1^2}{2(1 - c^2)}} \\frac{1}{\\sqrt{2\\pi}} e^{-\\frac{s_1^2}{2}} d s_1) = $$\n",
    "$$1 - \\frac{\\alpha_W^2}{2} + \\alpha_W^2(\\frac{c}{2} - c\\int_{0}^{+ \\infty}s_1^2 F(-\\frac{c}{\\sqrt{1 -c^2}}s_1)\\mathcal{D}s_1 + \\frac{\\sqrt{1 - c^2}}{2\\pi}\\int_{0}^{+ \\infty} s_1 e^{-\\frac{s_1^2}{2(1 - c^2)}}d s_1) = $$"
   ]
  },
  {
   "cell_type": "code",
   "execution_count": null,
   "metadata": {},
   "outputs": [],
   "source": []
  }
 ],
 "metadata": {
  "kernelspec": {
   "display_name": "Python 3",
   "language": "python",
   "name": "python3"
  },
  "language_info": {
   "codemirror_mode": {
    "name": "ipython",
    "version": 3
   },
   "file_extension": ".py",
   "mimetype": "text/x-python",
   "name": "python",
   "nbconvert_exporter": "python",
   "pygments_lexer": "ipython3",
   "version": "3.6.4"
  }
 },
 "nbformat": 4,
 "nbformat_minor": 2
}
